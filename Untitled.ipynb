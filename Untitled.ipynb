{
 "cells": [
  {
   "cell_type": "code",
   "execution_count": 1,
   "id": "53f5fcbf",
   "metadata": {},
   "outputs": [
    {
     "name": "stdout",
     "output_type": "stream",
     "text": [
      "Python 3.7.13\n"
     ]
    }
   ],
   "source": [
    "!python --version"
   ]
  },
  {
   "cell_type": "code",
   "execution_count": 2,
   "id": "82104e38",
   "metadata": {},
   "outputs": [
    {
     "name": "stdout",
     "output_type": "stream",
     "text": [
      " Volume in drive C is OS\n",
      " Volume Serial Number is 3CD9-1B8F\n",
      "\n",
      " Directory of C:\\Users\\ASUS\\Desktop\\Thesis\\VRP Ajayn\n",
      "\n",
      "09/22/2022  11:34 AM    <DIR>          .\n",
      "09/22/2022  11:34 AM    <DIR>          ..\n",
      "09/21/2022  12:26 PM    <DIR>          .ipynb_checkpoints\n",
      "09/21/2022  03:51 PM    <DIR>          OPT_ML\n",
      "09/22/2022  12:12 PM    <DIR>          RL-VRP-PtrNtwrk\n",
      "09/22/2022  11:34 AM             7,441 Untitled.ipynb\n",
      "09/21/2022  12:26 PM                72 Untitled1.ipynb\n",
      "               2 File(s)          7,513 bytes\n",
      "               5 Dir(s)  101,528,051,712 bytes free\n"
     ]
    }
   ],
   "source": [
    "ls"
   ]
  },
  {
   "cell_type": "code",
   "execution_count": 3,
   "id": "1854b623",
   "metadata": {},
   "outputs": [
    {
     "name": "stdout",
     "output_type": "stream",
     "text": [
      "C:\\Users\\ASUS\\Desktop\\Thesis\\VRP Ajayn\\RL-VRP-PtrNtwrk\n"
     ]
    }
   ],
   "source": [
    "cd RL-VRP-PtrNtwrk"
   ]
  },
  {
   "cell_type": "code",
   "execution_count": 4,
   "id": "77ac61bb",
   "metadata": {},
   "outputs": [
    {
     "name": "stdout",
     "output_type": "stream",
     "text": [
      " Volume in drive C is OS\n",
      " Volume Serial Number is 3CD9-1B8F\n",
      "\n",
      " Directory of C:\\Users\\ASUS\\Desktop\\Thesis\\VRP Ajayn\\RL-VRP-PtrNtwrk\n",
      "\n",
      "09/22/2022  12:12 PM    <DIR>          .\n",
      "09/22/2022  12:12 PM    <DIR>          ..\n",
      "09/21/2022  12:11 PM             1,928 .gitignore\n",
      "09/22/2022  11:12 AM             9,717 main.py\n",
      "09/21/2022  02:28 PM    <DIR>          Models\n",
      "09/22/2022  12:12 PM    <DIR>          New folder\n",
      "09/21/2022  12:11 PM               650 README.md\n",
      "09/21/2022  02:28 PM    <DIR>          Tasks\n",
      "09/22/2022  11:16 AM    <DIR>          test\n",
      "09/22/2022  01:45 PM    <DIR>          vrp\n",
      "               3 File(s)         12,295 bytes\n",
      "               7 Dir(s)  101,528,051,712 bytes free\n"
     ]
    }
   ],
   "source": [
    "ls"
   ]
  },
  {
   "cell_type": "code",
   "execution_count": 5,
   "id": "d1e47484",
   "metadata": {},
   "outputs": [
    {
     "name": "stdout",
     "output_type": "stream",
     "text": [
      "Detected device cuda\n",
      "Starting VRP training\n",
      "Train data: <Tasks.vrp.VehicleRoutingDataset object at 0x00000262319DD888>\n",
      "Actor: DRL4TSP(\n",
      "  (static_encoder): Encoder(\n",
      "    (conv): Conv1d(2, 128, kernel_size=(1,), stride=(1,))\n",
      "  )\n",
      "  (dynamic_encoder): Encoder(\n",
      "    (conv): Conv1d(2, 128, kernel_size=(1,), stride=(1,))\n",
      "  )\n",
      "  (decoder): Encoder(\n",
      "    (conv): Conv1d(2, 128, kernel_size=(1,), stride=(1,))\n",
      "  )\n",
      "  (pointer): Pointer(\n",
      "    (gru): GRU(128, 128, batch_first=True)\n",
      "    (encoder_attn): Attention()\n",
      "    (drop_rnn): Dropout(p=0.1)\n",
      "    (drop_hh): Dropout(p=0.1)\n",
      "  )\n",
      ") \n",
      "Critic: StateCritic(\n",
      "  (static_encoder): Encoder(\n",
      "    (conv): Conv1d(2, 128, kernel_size=(1,), stride=(1,))\n",
      "  )\n",
      "  (dynamic_encoder): Encoder(\n",
      "    (conv): Conv1d(2, 128, kernel_size=(1,), stride=(1,))\n",
      "  )\n",
      "  (fc1): Conv1d(256, 20, kernel_size=(1,), stride=(1,))\n",
      "  (fc2): Conv1d(20, 20, kernel_size=(1,), stride=(1,))\n",
      "  (fc3): Conv1d(20, 1, kernel_size=(1,), stride=(1,))\n",
      ")\n",
      "Starting training\n"
     ]
    },
    {
     "name": "stderr",
     "output_type": "stream",
     "text": [
      "C:\\Users\\ASUS\\.conda\\envs\\vrp_ajayn\\lib\\site-packages\\numpy\\core\\fromnumeric.py:3441: RuntimeWarning: Mean of empty slice.\n",
      "  out=out, **kwargs)\n",
      "C:\\Users\\ASUS\\.conda\\envs\\vrp_ajayn\\lib\\site-packages\\numpy\\core\\_methods.py:189: RuntimeWarning: invalid value encountered in double_scalars\n",
      "  ret = ret.dtype.type(ret / rcount)\n"
     ]
    },
    {
     "name": "stdout",
     "output_type": "stream",
     "text": [
      "Mean epoch loss/reward: -35.1042, 4.6135, 4.7967, took: 7.7752s (nans / 100 batches)\n",
      "\n",
      "Mean epoch loss/reward: -34.4260, 4.7005, 4.7910, took: 7.2615s (nans / 100 batches)\n",
      "\n",
      "Mean epoch loss/reward: -32.8189, 4.6985, 4.7897, took: 7.6673s (nans / 100 batches)\n",
      "\n",
      "Mean epoch loss/reward: -30.5887, 4.6529, 4.7920, took: 7.2507s (nans / 100 batches)\n",
      "\n",
      "Mean epoch loss/reward: -28.6456, 4.6613, 4.7881, took: 7.2596s (nans / 100 batches)\n",
      "\n",
      "Mean epoch loss/reward: -28.1614, 4.7255, 4.7908, took: 7.1998s (nans / 100 batches)\n",
      "\n",
      "Mean epoch loss/reward: -26.7035, 4.6085, 4.7960, took: 7.2047s (nans / 100 batches)\n",
      "\n",
      "Mean epoch loss/reward: -27.9582, 4.6838, 4.7993, took: 7.1808s (nans / 100 batches)\n",
      "\n",
      "Mean epoch loss/reward: -26.8358, 4.6602, 4.7998, took: 7.2177s (nans / 100 batches)\n",
      "\n",
      "Mean epoch loss/reward: -26.4800, 4.6459, 4.7965, took: 7.1419s (nans / 100 batches)\n",
      "\n",
      "Mean epoch loss/reward: -26.9761, 4.6641, 4.7946, took: 8.6778s (nans / 100 batches)\n",
      "\n",
      "Mean epoch loss/reward: -26.7485, 4.6495, 4.7921, took: 7.7404s (nans / 100 batches)\n",
      "\n",
      "Mean epoch loss/reward: -26.6508, 4.6889, 4.7951, took: 7.2137s (nans / 100 batches)\n",
      "\n",
      "Mean epoch loss/reward: -25.5151, 4.6580, 4.7941, took: 7.1648s (nans / 100 batches)\n",
      "\n",
      "Mean epoch loss/reward: -24.8517, 4.6495, 4.7941, took: 7.3254s (nans / 100 batches)\n",
      "\n",
      "Mean epoch loss/reward: -24.4889, 4.6437, 4.7946, took: 7.3015s (nans / 100 batches)\n",
      "\n",
      "Mean epoch loss/reward: -24.0584, 4.6731, 4.7979, took: 6.8875s (nans / 100 batches)\n",
      "\n",
      "Mean epoch loss/reward: -22.0624, 4.6152, 4.7979, took: 6.8826s (nans / 100 batches)\n",
      "\n",
      "Mean epoch loss/reward: -21.9857, 4.6410, 4.7963, took: 6.8996s (nans / 100 batches)\n",
      "\n",
      "Mean epoch loss/reward: -21.2482, 4.6534, 4.7919, took: 6.9265s (nans / 100 batches)\n",
      "\n",
      "Average tour length:  4.748114109039307\n"
     ]
    }
   ],
   "source": [
    "%run main.py --train-size=256 --nodes=5"
   ]
  },
  {
   "cell_type": "code",
   "execution_count": null,
   "id": "70801277",
   "metadata": {},
   "outputs": [],
   "source": []
  }
 ],
 "metadata": {
  "kernelspec": {
   "display_name": "Python 3.10.8 64-bit",
   "language": "python",
   "name": "python3"
  },
  "language_info": {
   "codemirror_mode": {
    "name": "ipython",
    "version": 3
   },
   "file_extension": ".py",
   "mimetype": "text/x-python",
   "name": "python",
   "nbconvert_exporter": "python",
   "pygments_lexer": "ipython3",
   "version": "3.10.8"
  },
  "vscode": {
   "interpreter": {
    "hash": "2a8dfe095fce2b5e88c64a2c3ee084c8e0e0d70b23e7b95b1cfb538be294c5c8"
   }
  }
 },
 "nbformat": 4,
 "nbformat_minor": 5
}
